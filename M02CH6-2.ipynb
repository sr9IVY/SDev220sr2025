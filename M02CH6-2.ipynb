{
 "cells": [
  {
   "cell_type": "code",
   "execution_count": 7,
   "metadata": {},
   "outputs": [
    {
     "name": "stdout",
     "output_type": "stream",
     "text": [
      "Ex 6-2\n"
     ]
    }
   ],
   "source": [
    "print(\"Ex 6-2\")"
   ]
  },
  {
   "cell_type": "code",
   "execution_count": 8,
   "metadata": {},
   "outputs": [
    {
     "name": "stdout",
     "output_type": "stream",
     "text": [
      "The goal of this exercise is to use a for loop to print the variable in a list\n"
     ]
    }
   ],
   "source": [
    "print(\"The goal of this exercise is to use a for loop to print the variable in a list\")"
   ]
  },
  {
   "cell_type": "code",
   "execution_count": 9,
   "metadata": {},
   "outputs": [
    {
     "name": "stdout",
     "output_type": "stream",
     "text": [
      "too low\n",
      "oops \n",
      "2\n",
      "too low\n",
      "oops \n",
      "3\n",
      "too low\n",
      "oops \n",
      "4\n",
      "too low\n",
      "oops \n",
      "5\n",
      "too low\n",
      "oops \n",
      "6\n",
      "too low\n",
      "oops \n",
      "7\n",
      "found it\n"
     ]
    }
   ],
   "source": [
    "guess_me = 7\n",
    "number = 1\n",
    "\n",
    "while True:\n",
    "    if number < guess_me:\n",
    "        print(\"too low\")\n",
    "    elif number == guess_me:\n",
    "        print(\"found it\")\n",
    "        break\n",
    "    else:  number > guess_me\n",
    "    print(\"oops \")\n",
    "    \n",
    "    number += 1\n",
    "    print(number)"
   ]
  }
 ],
 "metadata": {
  "kernelspec": {
   "display_name": "Python 3",
   "language": "python",
   "name": "python3"
  },
  "language_info": {
   "codemirror_mode": {
    "name": "ipython",
    "version": 3
   },
   "file_extension": ".py",
   "mimetype": "text/x-python",
   "name": "python",
   "nbconvert_exporter": "python",
   "pygments_lexer": "ipython3",
   "version": "3.13.2"
  }
 },
 "nbformat": 4,
 "nbformat_minor": 2
}
