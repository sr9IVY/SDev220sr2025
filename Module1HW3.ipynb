{
 "cells": [
  {
   "cell_type": "markdown",
   "id": "e1214963-22d0-41d9-a428-e0ad5432d835",
   "metadata": {},
   "source": [
    "3.1 Calculate seconds in one hour"
   ]
  },
  {
   "cell_type": "code",
   "execution_count": 10,
   "id": "a5dbb139-0ab9-41a1-88fb-068337ae4b04",
   "metadata": {
    "scrolled": true
   },
   "outputs": [
    {
     "name": "stdout",
     "output_type": "stream",
     "text": [
      "Seconds in one hour = 3,600\n"
     ]
    }
   ],
   "source": [
    "print(f\"Seconds in one hour = {60*60:,}\")"
   ]
  },
  {
   "cell_type": "markdown",
   "id": "35b99336-2373-4ff3-9dde-4a4ecfb6cb2b",
   "metadata": {},
   "source": [
    "3.3 Calculate seconds in one day"
   ]
  },
  {
   "cell_type": "code",
   "execution_count": 11,
   "id": "a21def67-e464-487c-b44b-b45afd316b83",
   "metadata": {},
   "outputs": [
    {
     "name": "stdout",
     "output_type": "stream",
     "text": [
      "Seconds in one day = 86,400\n"
     ]
    }
   ],
   "source": [
    "seconds_per_hour =3600 # 3.2 assign value to variable\n",
    "print(f\"Seconds in one day = {seconds_per_hour*24:,}\")"
   ]
  },
  {
   "cell_type": "markdown",
   "id": "2c97a8a3-aa3e-4b38-8ca5-3e090426fbdf",
   "metadata": {},
   "source": [
    "3.4 Calculate seconds per day again"
   ]
  },
  {
   "cell_type": "code",
   "execution_count": 12,
   "id": "4a44966b-e88f-4f13-871f-e1ed1d1ac80d",
   "metadata": {},
   "outputs": [],
   "source": [
    "seconds_per_day = seconds_per_hour*24"
   ]
  },
  {
   "cell_type": "code",
   "execution_count": 13,
   "id": "914439b7-d4e1-427d-874a-8e1cda3f7ff9",
   "metadata": {},
   "outputs": [
    {
     "name": "stdout",
     "output_type": "stream",
     "text": [
      "86,400\n"
     ]
    }
   ],
   "source": [
    "print(f\"{seconds_per_day:,}\")"
   ]
  },
  {
   "cell_type": "markdown",
   "id": "3661cd7b-6d4a-4d0e-9946-958ef2e35f38",
   "metadata": {},
   "source": [
    "3.5 Divide seconds_per_day by seconds_per_hour. Use floating-point (/) division\n"
   ]
  },
  {
   "cell_type": "code",
   "execution_count": 14,
   "id": "52e0fc3e-a657-466b-8612-46e2bb48473f",
   "metadata": {},
   "outputs": [
    {
     "name": "stdout",
     "output_type": "stream",
     "text": [
      "seconds_per_day divided  by seconds_per_hour =  24.0\n"
     ]
    }
   ],
   "source": [
    "print(f\"seconds_per_day divided  by seconds_per_hour = \" , seconds_per_day/seconds_per_hour)"
   ]
  },
  {
   "cell_type": "markdown",
   "id": "949796c7-d13f-4695-a9cd-813b7db2bda9",
   "metadata": {},
   "source": [
    "3.6 Divide seconds_per_day by seconds_per_hour, using integer (//) division. "
   ]
  },
  {
   "cell_type": "code",
   "execution_count": 15,
   "id": "a8df18ca-0d17-423c-a4de-0756d166af5b",
   "metadata": {},
   "outputs": [
    {
     "data": {
      "text/plain": [
       "24"
      ]
     },
     "execution_count": 15,
     "metadata": {},
     "output_type": "execute_result"
    }
   ],
   "source": [
    "seconds_per_day//seconds_per_hour "
   ]
  },
  {
   "cell_type": "markdown",
   "id": "e197c4b7-4680-48da-bee4-29b3e08937d8",
   "metadata": {},
   "source": [
    "Ex 3.6 returns a modulus result and Ex 3.5 returns a floating point division"
   ]
  }
 ],
 "metadata": {
  "kernelspec": {
   "display_name": "Python 3",
   "language": "python",
   "name": "python3"
  },
  "language_info": {
   "codemirror_mode": {
    "name": "ipython",
    "version": 3
   },
   "file_extension": ".py",
   "mimetype": "text/x-python",
   "name": "python",
   "nbconvert_exporter": "python",
   "pygments_lexer": "ipython3",
   "version": "3.12.1"
  }
 },
 "nbformat": 4,
 "nbformat_minor": 5
}
