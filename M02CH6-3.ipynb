{
 "cells": [
  {
   "cell_type": "code",
   "execution_count": 1,
   "metadata": {},
   "outputs": [
    {
     "name": "stdout",
     "output_type": "stream",
     "text": [
      "M02Ex6-3\n",
      "The goal of this exercise is to iterate over a range to guess a number \n",
      "too low\n",
      "too low\n",
      "too low\n",
      "too low\n",
      "too low\n",
      "too low\n",
      "too low\n",
      "too low\n",
      "found it!\n",
      "14\n"
     ]
    }
   ],
   "source": [
    "print(\"M02Ex6-3\")\n",
    "\n",
    "print(\"The goal of this exercise is to iterate over a range to guess a number \")\n",
    "\n",
    "number =  5\n",
    "guess_me = 14\n",
    "\n",
    "for i in range(10):\n",
    "    number = number+1\n",
    "    if number < guess_me:\n",
    "        print(\"too low\")\n",
    "    elif number == guess_me:\n",
    "        print(\"found it!\")\n",
    "        print(number)\n",
    "        break\n",
    "    elif number > guess_me:\n",
    "        print(\"oops\")"
   ]
  }
 ],
 "metadata": {
  "kernelspec": {
   "display_name": "Python 3",
   "language": "python",
   "name": "python3"
  },
  "language_info": {
   "codemirror_mode": {
    "name": "ipython",
    "version": 3
   },
   "file_extension": ".py",
   "mimetype": "text/x-python",
   "name": "python",
   "nbconvert_exporter": "python",
   "pygments_lexer": "ipython3",
   "version": "3.13.2"
  }
 },
 "nbformat": 4,
 "nbformat_minor": 2
}
