{
 "cells": [
  {
   "cell_type": "code",
   "execution_count": null,
   "metadata": {},
   "outputs": [],
   "source": [
    "print(\"Student: Sidart Rav\")\n",
    "print(\"File Name: deanLhonorR.ipnyb\")\n",
    "print(\"This app will allow for input of student's last name, first name and grade point average and determine\")\n",
    "print(\"if the student made Dean's List or Honor Roll.\")\n"
   ]
  },
  {
   "cell_type": "code",
   "execution_count": null,
   "metadata": {},
   "outputs": [],
   "source": [
    "print(\"When you input Student Data, only enter a decimal GPA between 0.00 and 4.00.\")\n",
    "print(\"This program will not accept a number higher than 4.00 and will crash for\")\n",
    "print(\"non-numeric input.\")\n",
    "print(\"\")\n"
   ]
  },
  {
   "cell_type": "code",
   "execution_count": null,
   "metadata": {},
   "outputs": [],
   "source": [
    "while True:\n",
    "    lastName = input(\"Please input the student's last name or 'ZZZ' to quit: \")\n",
    "    if lastName.upper() == 'ZZZ': # quit processing after the last student name is entered\n",
    "        break\n",
    "    \n",
    "    firstName = input(\"Please input the student's first name : \")\n",
    "    \n",
    "    while True:\n",
    "\n",
    "            gpa = float(input(\"Enter the student's GPA: \"))\n",
    "            if 0.0 <= gpa <= 4.0:\n",
    "                break\n",
    "            else:\n",
    "                print(\"Please input between 0.0 and 4.0.\")\n",
    "\n",
    "    if gpa >= 3.5:\n",
    "            print(f\"                             Please add, {firstName} {lastName} to the Dean's List.\")\n",
    "    elif gpa >= 3.25:\n",
    "            print(f\"                             Please add, {firstName} {lastName} to the Honor Roll.\")\n",
    "    else:\n",
    "            print(f\"Please enter next student's data\")\n"
   ]
  }
 ],
 "metadata": {
  "kernelspec": {
   "display_name": "Python 3",
   "language": "python",
   "name": "python3"
  },
  "language_info": {
   "codemirror_mode": {
    "name": "ipython",
    "version": 3
   },
   "file_extension": ".py",
   "mimetype": "text/x-python",
   "name": "python",
   "nbconvert_exporter": "python",
   "pygments_lexer": "ipython3",
   "version": "3.13.2"
  }
 },
 "nbformat": 4,
 "nbformat_minor": 2
}
