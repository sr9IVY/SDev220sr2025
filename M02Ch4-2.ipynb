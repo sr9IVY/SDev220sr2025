{
 "cells": [
  {
   "cell_type": "code",
   "execution_count": null,
   "metadata": {},
   "outputs": [],
   "source": [
    "print(\"Ex 4-2\")\n",
    "\n",
    "print(\"The goal of this exercise is to assign boolean values for size and color of vegetables\")\n",
    "\n",
    "\n",
    "      \n",
    "# Assign True or False to the variables\n",
    "small = False  # Set to True for small vegetables\n",
    "green = True   # Set to True for green vegetables\n",
    "\n",
    "# Determine and print the matching vegetable\n",
    "\n",
    "if   small and green:\n",
    "     print(\"if small and green: pea\")\n",
    "elif small and not green:\n",
    "     print(\"if small and not green: cherry\")\n",
    "elif not small and green:\n",
    "     print(\"if not small and green: watermelon\")\n",
    "elif not small and not green:\n",
    "    print(\"if not small and not green: pumpkin\")\n",
    "\n",
    "print(\"if not small and not green: pumpkin\")\n",
    "print(\"if small and not green: cherry\")\n",
    "print(\"if small and green: pea\")"
   ]
  }
 ],
 "metadata": {
  "kernelspec": {
   "display_name": "Python 3",
   "language": "python",
   "name": "python3"
  },
  "language_info": {
   "name": "python",
   "version": "3.13.2"
  }
 },
 "nbformat": 4,
 "nbformat_minor": 2
}
