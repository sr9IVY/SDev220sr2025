{
 "cells": [
  {
   "cell_type": "code",
   "execution_count": null,
   "metadata": {},
   "outputs": [
    {
     "name": "stdout",
     "output_type": "stream",
     "text": [
      "Module 2 Exercises\n",
      "Author Sidart Rav\n",
      "March 28, 2025\n",
      "\n",
      "Ex 4-1\n",
      "The goal of this program is to have a user correctly guess a number between 1 and 10\n",
      "In this program the user inputs a guess of an integer number between 1 and 10. The prompts continue until\n",
      "the value of the secret number is entered.\n"
     ]
    }
   ],
   "source": [
    "print(\"Module 2 Exercises\")\n",
    "\n",
    "print(\"Author Sidart Rav\")\n",
    "print(\"March 28, 2025\")\n",
    "print(\"\")\n",
    "print(\"Ex 4-1\")\n",
    "\n",
    "print(\"The goal of this program is to have a user correctly guess a number between 1 and 10\")\n",
    "\n",
    "secret = int(9)\n",
    "\n",
    "# Initialize guess variable by setting it to None to start the loop)\n",
    "guess = None\n",
    "print(\"In this program the user inputs a guess of an integer number between 1 and 10. The prompts continue until\")\n",
    "print(\"the value of the secret number is entered.\")\n",
    "\n",
    "# Loop until the guess matches the secret\n",
    "while guess != secret:\n",
    "# User inputs a guess\n",
    "    guess = int(input(\"Guess the correct number between 1 and 10: \"))\n",
    "    \n",
    "    # Check if the guess is lower than the secret\n",
    "    if guess < secret:\n",
    "       print(\"too low\")\n",
    "    # Check if the guess is higher than the secret\n",
    "\n",
    "    elif guess > secret:\n",
    "         print(\"too high\")\n",
    "    # When the guess is exactly the secret\n",
    "    else:\n",
    "      print(\"just right\")\n",
    "\n",
    "\n",
    "print(\"Ex 4-2\")\n",
    "\n",
    "print(\"The goal of this exercise is to assign boolean values for size and color of vegetables\")\n",
    "\n",
    "\n",
    "      \n",
    "# Assign True or False to the variables\n",
    "small = False  # Set to True for small vegetables\n",
    "green = True   # Set to True for green vegetables\n",
    "\n",
    "# Determine and print the matching vegetable\n",
    "\n",
    "if   small and green:\n",
    "     print(\"if small and green: pea\")\n",
    "elif small and not green:\n",
    "     print(\"if small and not green: cherry\")\n",
    "elif not small and green:\n",
    "     print(\"if not small and green: watermelon\")\n",
    "elif not small and not green:\n",
    "    print(\"if not small and not green: pumpkin\")\n",
    "\n",
    "print(\"if not small and not green: pumpkin\")\n",
    "print(\"if small and not green: cherry\")\n",
    "print(\"if small and green: pea\")\n",
    "\n",
    "\n",
    "\"\"\"print(\"Ex 6-1\")\n",
    "\n",
    "print(\"The goal of this exercise is to for loop to print the variable in a list\")\n",
    "\n",
    "i = 0\n",
    "list = [3, 2, 1, 0]\n",
    "\n",
    "for item in list:\n",
    "    print(item)\"\"\"\n"
   ]
  },
  {
   "cell_type": "code",
   "execution_count": null,
   "metadata": {},
   "outputs": [],
   "source": [
    "\n"
   ]
  }
 ],
 "metadata": {
  "kernelspec": {
   "display_name": "Python 3",
   "language": "python",
   "name": "python3"
  },
  "language_info": {
   "codemirror_mode": {
    "name": "ipython",
    "version": 3
   },
   "file_extension": ".py",
   "mimetype": "text/x-python",
   "name": "python",
   "nbconvert_exporter": "python",
   "pygments_lexer": "ipython3",
   "version": "3.13.2"
  }
 },
 "nbformat": 4,
 "nbformat_minor": 2
}
